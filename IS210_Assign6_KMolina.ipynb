{
 "cells": [
  {
   "cell_type": "code",
   "execution_count": 1,
   "id": "258ca104",
   "metadata": {},
   "outputs": [
    {
     "name": "stdout",
     "output_type": "stream",
     "text": [
      "(5, 3, 4.0)\n"
     ]
    }
   ],
   "source": [
    "def lexicographics(to_analyze):\n",
    "    lines = to_analyze.split(\"\\n\")\n",
    "    min = len(lines[0].split())\n",
    "    max = len(lines[0].split())\n",
    "    sum = 0\n",
    "    for i in range(len(lines)):\n",
    "        length = len(lines[i].split())\n",
    "        sum = sum + length\n",
    "        if(length<min):\n",
    "            min = length\n",
    "        if(length>max):\n",
    "            max = length\n",
    "    return (max,min,sum/len(lines))\n",
    "\n",
    "print(lexicographics(\"\"\"Don't stop believing, \n",
    "Hold on to that feeling.\"\"\"))"
   ]
  },
  {
   "cell_type": "code",
   "execution_count": null,
   "id": "b30ed277",
   "metadata": {},
   "outputs": [],
   "source": []
  }
 ],
 "metadata": {
  "kernelspec": {
   "display_name": "Python 3 (ipykernel)",
   "language": "python",
   "name": "python3"
  },
  "language_info": {
   "codemirror_mode": {
    "name": "ipython",
    "version": 3
   },
   "file_extension": ".py",
   "mimetype": "text/x-python",
   "name": "python",
   "nbconvert_exporter": "python",
   "pygments_lexer": "ipython3",
   "version": "3.9.12"
  }
 },
 "nbformat": 4,
 "nbformat_minor": 5
}
