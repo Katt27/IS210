{
 "cells": [
  {
   "cell_type": "code",
   "execution_count": 1,
   "id": "16f4313b",
   "metadata": {},
   "outputs": [
    {
     "name": "stdout",
     "output_type": "stream",
     "text": [
      "Warning: Your index/key doesn't exist.\n"
     ]
    }
   ],
   "source": [
    "def simple_lookup(var1, var2):\n",
    "    try:\n",
    "        return var1[var2]\n",
    "    except KeyError:\n",
    "        print(\"Warning: Your index/key doesn't exist.\")\n",
    "\n",
    "simple_lookup({}, 'banana')"
   ]
  },
  {
   "cell_type": "code",
   "execution_count": 23,
   "id": "1b71e7b5",
   "metadata": {},
   "outputs": [
    {
     "data": {
      "text/plain": [
       "-77"
      ]
     },
     "execution_count": 23,
     "metadata": {},
     "output_type": "execute_result"
    }
   ],
   "source": [
    "import datetime\n",
    "class InvalidAgeError(Exception):\n",
    "    pass\n",
    "\n",
    "def get_age(birthyear):\n",
    "    if(str(birthyear).isdigit() == 0):\n",
    "        birthyear>datetime.datetime.now(year)\n",
    "        raise InvalidAgeError\n",
    "    else:\n",
    "        age=datetime.datetime.now().year - birthyear\n",
    "        return age\n",
    "get_age(2099)\n",
    "    "
   ]
  }
 ],
 "metadata": {
  "kernelspec": {
   "display_name": "Python 3 (ipykernel)",
   "language": "python",
   "name": "python3"
  },
  "language_info": {
   "codemirror_mode": {
    "name": "ipython",
    "version": 3
   },
   "file_extension": ".py",
   "mimetype": "text/x-python",
   "name": "python",
   "nbconvert_exporter": "python",
   "pygments_lexer": "ipython3",
   "version": "3.9.12"
  }
 },
 "nbformat": 4,
 "nbformat_minor": 5
}
