{
 "cells": [
  {
   "cell_type": "code",
   "execution_count": 11,
   "id": "1cdc438a",
   "metadata": {},
   "outputs": [],
   "source": [
    ">>> RAVEN = 'quoth'"
   ]
  },
  {
   "cell_type": "code",
   "execution_count": 18,
   "id": "455cb18e",
   "metadata": {},
   "outputs": [],
   "source": [
    ">>> RAVEN = 'Nevermore!'"
   ]
  },
  {
   "cell_type": "code",
   "execution_count": 23,
   "id": "1a009c29",
   "metadata": {},
   "outputs": [
    {
     "name": "stdout",
     "output_type": "stream",
     "text": [
      "Nevermore!\n"
     ]
    }
   ],
   "source": [
    "print(RAVEN)"
   ]
  },
  {
   "cell_type": "code",
   "execution_count": 72,
   "id": "bbf116d2",
   "metadata": {},
   "outputs": [
    {
     "name": "stdout",
     "output_type": "stream",
     "text": [
      "52.142857142857146\n"
     ]
    }
   ],
   "source": [
    "Weeks = ((((19%10)+100) +2**8) /7)\n",
    "print (Weeks)"
   ]
  },
  {
   "cell_type": "code",
   "execution_count": 74,
   "id": "d730d95e",
   "metadata": {},
   "outputs": [
    {
     "name": "stdout",
     "output_type": "stream",
     "text": [
      "Danger \n"
     ]
    }
   ],
   "source": [
    ">>> WILL_ROBINSON = 'Danger Will Robinson!'\n",
    "KLAXON = WILL_ROBINSON[:7]\n",
    ">>> print (KLAXON)\n",
    "\n"
   ]
  },
  {
   "cell_type": "code",
   "execution_count": 21,
   "id": "d72f260a",
   "metadata": {},
   "outputs": [
    {
     "name": "stdout",
     "output_type": "stream",
     "text": [
      "Danger Danger Danger Danger Danger \n"
     ]
    }
   ],
   "source": [
    "KLAXON = 'Danger '\n",
    "repeat = KLAXON*5\n",
    "print(repeat)"
   ]
  },
  {
   "cell_type": "code",
   "execution_count": 75,
   "id": "1b7514cb",
   "metadata": {},
   "outputs": [
    {
     "name": "stdout",
     "output_type": "stream",
     "text": [
      "['Michaelangelo', 'Leonardo', 'Rafael', 'Donatello', 'Heroes in a half shell.']\n"
     ]
    }
   ],
   "source": [
    ">>> TEENAGE_MUTANT_NINJAS = ('Michaelangelo. Leonardo. Rafael. Donatello. Heroes '\n",
    "                     'in a half shell.')\n",
    "TURTLE_POWER = TEENAGE_MUTANT_NINJAS.split('. ')\n",
    "print (TURTLE_POWER)"
   ]
  },
  {
   "cell_type": "code",
   "execution_count": 69,
   "id": "192a6c8f",
   "metadata": {},
   "outputs": [
    {
     "name": "stdout",
     "output_type": "stream",
     "text": [
      "A long-tailed cat in a room full of rockin' chairs.\n"
     ]
    }
   ],
   "source": [
    ">>> NERVOUS_AS = \"\"\"\n",
    "//////////A long-tailed cat in a room full of rockin' chairs.,,,,,,,,,, \"\"\".strip()\n",
    "NERVOUS_AS = NERVOUS_AS.rstrip(',').lstrip('/')\n",
    "print(NERVOUS_AS)\n",
    "\n",
    "\n",
    "\n"
   ]
  },
  {
   "cell_type": "code",
   "execution_count": 70,
   "id": "16907120",
   "metadata": {},
   "outputs": [
    {
     "name": "stdout",
     "output_type": "stream",
     "text": [
      "Dr. Strangelove Or: How I Learned To Stop Worrying And Love The Bomb\n"
     ]
    }
   ],
   "source": [
    ">>> MOVIE = 'dr. strangelove or: how i learned to stop worrying and love the bomb'\n",
    "ENTITLED = MOVIE.title()\n",
    "print(ENTITLED)"
   ]
  },
  {
   "cell_type": "code",
   "execution_count": 71,
   "id": "416b53e4",
   "metadata": {},
   "outputs": [
    {
     "name": "stdout",
     "output_type": "stream",
     "text": [
      "True\n"
     ]
    }
   ],
   "source": [
    "IS_TRUE = True\n",
    "IS_FALSE = False\n",
    "NONE = None\n",
    "INTERGER_EQUIV = (IS_TRUE == 1) and (IS_FALSE == 0)\n",
    "print(INTERGER_EQUIV)"
   ]
  }
 ],
 "metadata": {
  "kernelspec": {
   "display_name": "Python 3 (ipykernel)",
   "language": "python",
   "name": "python3"
  },
  "language_info": {
   "codemirror_mode": {
    "name": "ipython",
    "version": 3
   },
   "file_extension": ".py",
   "mimetype": "text/x-python",
   "name": "python",
   "nbconvert_exporter": "python",
   "pygments_lexer": "ipython3",
   "version": "3.9.12"
  }
 },
 "nbformat": 4,
 "nbformat_minor": 5
}
