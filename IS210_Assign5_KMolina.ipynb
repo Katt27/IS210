{
 "cells": [
  {
   "cell_type": "code",
   "execution_count": 1,
   "id": "a1ff5686",
   "metadata": {},
   "outputs": [
    {
     "name": "stdout",
     "output_type": "stream",
     "text": [
      "Elements :  ('None', 'Hydrogen', 'Helium', 'Lithium', 'Beryllium', 'Boron', 'Carbon')\n",
      "Operations Order :  ['Parenthese', 'Exponents', 'Multiplications', 'Division', 'Addition', 'Subtraction']\n"
     ]
    }
   ],
   "source": [
    "ELEMENTS=(\"None\", \"Hydrogen\", \"Helium\", \"Lithium\", \"Beryllium\", \"Boron\", \"Carbon\")\n",
    "OPERATIONS_ORDER=[\"Parenthese\",\"Exponents\",\"Multiplications\",\"Division\",\"Addition\",\"Subtraction\"]\n",
    "\n",
    "print(\"Elements : \", ELEMENTS)\n",
    "print(\"Operations Order : \", OPERATIONS_ORDER)"
   ]
  },
  {
   "cell_type": "code",
   "execution_count": 4,
   "id": "790cc0db",
   "metadata": {},
   "outputs": [
    {
     "name": "stdout",
     "output_type": "stream",
     "text": [
      "(6, 2.0)\n"
     ]
    }
   ],
   "source": [
    "def process_data(a) :\n",
    "    sum_a=0\n",
    "    for i in a:\n",
    "        sum_a+=i\n",
    "    avg=round(sum_a/len(a),2)\n",
    "    return (sum_a,avg)\n",
    "\n",
    "print(process_data([1,2,3]))"
   ]
  },
  {
   "cell_type": "code",
   "execution_count": 7,
   "id": "049d8939",
   "metadata": {},
   "outputs": [
    {
     "name": "stdout",
     "output_type": "stream",
     "text": [
      "True\n",
      "[(3, 2, 1), 'cba']\n"
     ]
    }
   ],
   "source": [
    "def flip_keys(LIST):\n",
    "    for i in range(len(LIST)):\n",
    "        LIST[i]=LIST[i][::-1]\n",
    "    return LIST\n",
    "\n",
    "LIST = [(1,2,3), 'abc']\n",
    "NEW = flip_keys(LIST)\n",
    "print(LIST is NEW)\n",
    "print(LIST)"
   ]
  }
 ],
 "metadata": {
  "kernelspec": {
   "display_name": "Python 3 (ipykernel)",
   "language": "python",
   "name": "python3"
  },
  "language_info": {
   "codemirror_mode": {
    "name": "ipython",
    "version": 3
   },
   "file_extension": ".py",
   "mimetype": "text/x-python",
   "name": "python",
   "nbconvert_exporter": "python",
   "pygments_lexer": "ipython3",
   "version": "3.9.12"
  }
 },
 "nbformat": 4,
 "nbformat_minor": 5
}
