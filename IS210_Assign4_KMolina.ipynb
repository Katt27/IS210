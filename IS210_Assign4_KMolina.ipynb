{
 "cells": [
  {
   "cell_type": "code",
   "execution_count": 5,
   "id": "889f83dc",
   "metadata": {},
   "outputs": [],
   "source": [
    "def too_many_kittens (kittens, litterboxes, catfood):\n",
    "    return not(litterboxes >= kittens and catfood)"
   ]
  },
  {
   "cell_type": "code",
   "execution_count": 6,
   "id": "49759724",
   "metadata": {},
   "outputs": [
    {
     "data": {
      "text/plain": [
       "True"
      ]
     },
     "execution_count": 6,
     "metadata": {},
     "output_type": "execute_result"
    }
   ],
   "source": [
    "too_many_kittens(12, 12, False)"
   ]
  },
  {
   "cell_type": "code",
   "execution_count": 10,
   "id": "b6a07ec9",
   "metadata": {},
   "outputs": [
    {
     "data": {
      "text/plain": [
       "True"
      ]
     },
     "execution_count": 10,
     "metadata": {},
     "output_type": "execute_result"
    }
   ],
   "source": [
    "too_many_kittens(13, 12, True)"
   ]
  },
  {
   "cell_type": "code",
   "execution_count": 9,
   "id": "3d01d532",
   "metadata": {},
   "outputs": [
    {
     "data": {
      "text/plain": [
       "False"
      ]
     },
     "execution_count": 9,
     "metadata": {},
     "output_type": "execute_result"
    }
   ],
   "source": [
    "too_many_kittens(12, 13, True)"
   ]
  }
 ],
 "metadata": {
  "kernelspec": {
   "display_name": "Python 3 (ipykernel)",
   "language": "python",
   "name": "python3"
  },
  "language_info": {
   "codemirror_mode": {
    "name": "ipython",
    "version": 3
   },
   "file_extension": ".py",
   "mimetype": "text/x-python",
   "name": "python",
   "nbconvert_exporter": "python",
   "pygments_lexer": "ipython3",
   "version": "3.9.12"
  }
 },
 "nbformat": 4,
 "nbformat_minor": 5
}
