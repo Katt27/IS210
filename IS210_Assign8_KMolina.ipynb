{
 "cells": [
  {
   "cell_type": "code",
   "execution_count": 12,
   "id": "6537fb4b",
   "metadata": {},
   "outputs": [
    {
     "ename": "AttributeError",
     "evalue": "'dict' object has no attribute 'iteritems'",
     "output_type": "error",
     "traceback": [
      "\u001b[1;31m---------------------------------------------------------------------------\u001b[0m",
      "\u001b[1;31mAttributeError\u001b[0m                            Traceback (most recent call last)",
      "Input \u001b[1;32mIn [12]\u001b[0m, in \u001b[0;36m<cell line: 41>\u001b[1;34m()\u001b[0m\n\u001b[0;32m     37\u001b[0m         total \u001b[38;5;241m+\u001b[39m\u001b[38;5;241m=\u001b[39m (val \u001b[38;5;241m-\u001b[39m key)\n\u001b[0;32m     39\u001b[0m     \u001b[38;5;28;01mreturn\u001b[39;00m total\n\u001b[1;32m---> 41\u001b[0m \u001b[43miter_dict_funky_sum\u001b[49m\u001b[43m(\u001b[49m\u001b[43mDATA\u001b[49m\u001b[43m)\u001b[49m\n",
      "Input \u001b[1;32mIn [12]\u001b[0m, in \u001b[0;36miter_dict_funky_sum\u001b[1;34m(data_dict)\u001b[0m\n\u001b[0;32m     30\u001b[0m \u001b[38;5;28;01mdef\u001b[39;00m \u001b[38;5;21miter_dict_funky_sum\u001b[39m(data_dict):\n\u001b[0;32m     33\u001b[0m     total \u001b[38;5;241m=\u001b[39m \u001b[38;5;241m0\u001b[39m\n\u001b[1;32m---> 35\u001b[0m     \u001b[38;5;28;01mfor\u001b[39;00m key, val \u001b[38;5;129;01min\u001b[39;00m \u001b[43mdata_dict\u001b[49m\u001b[38;5;241;43m.\u001b[39;49m\u001b[43miteritems\u001b[49m():\n\u001b[0;32m     37\u001b[0m         total \u001b[38;5;241m+\u001b[39m\u001b[38;5;241m=\u001b[39m (val \u001b[38;5;241m-\u001b[39m key)\n\u001b[0;32m     39\u001b[0m     \u001b[38;5;28;01mreturn\u001b[39;00m total\n",
      "\u001b[1;31mAttributeError\u001b[0m: 'dict' object has no attribute 'iteritems'"
     ]
    }
   ],
   "source": [
    "\n",
    "DATA = { \n",
    "    2: 7493945, \n",
    "    76: 4654320, \n",
    "    3: 4091979, \n",
    "    90: 1824881, \n",
    "    82: 714422, \n",
    "    45: 1137701, \n",
    "    10: 374362, \n",
    "    0: 326226, \n",
    "    -15: 417203, \n",
    "    -56: 333525, \n",
    "    67: 323451, \n",
    "    99: 321696, \n",
    "    21: 336753, \n",
    "    -100: 361237, \n",
    "    55: 1209714, \n",
    "    5150: 1771800, \n",
    "    42: 4714011, \n",
    "    888: 14817667, \n",
    "    3500: 13760234, \n",
    "    712: 10903322, \n",
    "    7: 10443792, \n",
    "    842: 11716264, \n",
    "    18584: 10559923, \n",
    "    666: 9275602, \n",
    "    70: 11901200, \n",
    "    153: 12074784, \n",
    "    8: 4337229 }\n",
    "\n",
    "def iter_dict_funky_sum(data_dict):\n",
    "\n",
    "    \n",
    "    total = 0\n",
    "\n",
    "    for key, val in data_dict.iteritems():\n",
    "\n",
    "        total += (val - key)\n",
    "        \n",
    "    return total\n",
    "\n",
    "iter_dict_funky_sum(DATA)"
   ]
  },
  {
   "cell_type": "code",
   "execution_count": null,
   "id": "77ea5435",
   "metadata": {},
   "outputs": [],
   "source": []
  }
 ],
 "metadata": {
  "kernelspec": {
   "display_name": "Python 3 (ipykernel)",
   "language": "python",
   "name": "python3"
  },
  "language_info": {
   "codemirror_mode": {
    "name": "ipython",
    "version": 3
   },
   "file_extension": ".py",
   "mimetype": "text/x-python",
   "name": "python",
   "nbconvert_exporter": "python",
   "pygments_lexer": "ipython3",
   "version": "3.9.12"
  }
 },
 "nbformat": 4,
 "nbformat_minor": 5
}
