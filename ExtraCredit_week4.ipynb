{
 "cells": [
  {
   "cell_type": "code",
   "execution_count": 7,
   "id": "146ee531",
   "metadata": {},
   "outputs": [
    {
     "name": "stdout",
     "output_type": "stream",
     "text": [
      "-279.66999999999996\n"
     ]
    }
   ],
   "source": [
    "#Function that performs the equation for Kelvin to Celsius\n",
    "def kel_to_cel(temp):\n",
    "    return temp - 273.15\n",
    "\n",
    "##Function that performs the equation for Celsius to Fahrenheit\n",
    "def cel_to_fah(temp):\n",
    "    return (temp * (9/5))+32\n",
    "\n",
    "#Function that performs the equation for Kelvin to Fahrenheit\n",
    "def kel_to_fah(temp):\n",
    "    return cel_to_fah(kel_to_cel(temp))\n",
    "\n",
    "\"\"\"\n",
    "This function takes 3 parameters.\n",
    "'Start' represents the starting Unit of temperature.\n",
    "'End' represents the unit you want to convert to.\n",
    "'Temp' is the number that will be converted.\n",
    "It uses if to check what unit of temperature the user is starting with\n",
    "and what the user wants to end with.\n",
    "\"\"\"\n",
    "def convert(start, end, temp):\n",
    "    if(start == 'k' and end == 'c'):\n",
    "        return kel_to_cel(temp)\n",
    "    elif(start == 'c' and end == 'f'):\n",
    "        return cel_to_fah(temp)\n",
    "    elif(start == 'k' and end == 'f'):\n",
    "        return kel_to_fah(temp)\n",
    "    \n",
    "print(convert('k', 'f', 100))"
   ]
  },
  {
   "cell_type": "code",
   "execution_count": null,
   "id": "4a3707fa",
   "metadata": {},
   "outputs": [],
   "source": []
  }
 ],
 "metadata": {
  "kernelspec": {
   "display_name": "Python 3",
   "language": "python",
   "name": "python3"
  },
  "language_info": {
   "codemirror_mode": {
    "name": "ipython",
    "version": 3
   },
   "file_extension": ".py",
   "mimetype": "text/x-python",
   "name": "python",
   "nbconvert_exporter": "python",
   "pygments_lexer": "ipython3",
   "version": "3.8.10"
  }
 },
 "nbformat": 4,
 "nbformat_minor": 5
}
