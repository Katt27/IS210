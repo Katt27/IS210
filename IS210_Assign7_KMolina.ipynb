{
 "cells": [
  {
   "cell_type": "code",
   "execution_count": null,
   "id": "98f83ea6",
   "metadata": {},
   "outputs": [],
   "source": [
    "input_bp=int(input(\"What is your blood pressure?\"))\n",
    "BP_STATUS=\"\"\n",
    "if input_bp <= 89: \n",
    "    BP_STATUS=\"Low\"\n",
    "elif 90<= input_bp <= 119:\n",
    "    BP_STATUS=\"Ideal\"\n",
    "elif 120<= input_bp <= 139:\n",
    "    BP_STATUS=\"Warning\"\n",
    "elif 140<= input_bp <= 159:\n",
    "    BP_STATUS=\"High\"\n",
    "else:\n",
    "    BP_STATUS=\"Emergency\"\n",
    "print(\"Your status is currently: {}!\".format(BP_STATUS) )"
   ]
  },
  {
   "cell_type": "code",
   "execution_count": null,
   "id": "13cbd310",
   "metadata": {},
   "outputs": [],
   "source": []
  }
 ],
 "metadata": {
  "kernelspec": {
   "display_name": "Python 3 (ipykernel)",
   "language": "python",
   "name": "python3"
  },
  "language_info": {
   "codemirror_mode": {
    "name": "ipython",
    "version": 3
   },
   "file_extension": ".py",
   "mimetype": "text/x-python",
   "name": "python",
   "nbconvert_exporter": "python",
   "pygments_lexer": "ipython3",
   "version": "3.9.12"
  }
 },
 "nbformat": 4,
 "nbformat_minor": 5
}
